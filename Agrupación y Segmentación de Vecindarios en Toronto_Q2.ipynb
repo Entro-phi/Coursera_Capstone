{
 "cells": [
  {
   "cell_type": "markdown",
   "id": "531a8775",
   "metadata": {},
   "source": [
    "Ahora que ha creado un marco de datos del código postal de cada vecindario junto con el nombre del municipio y el nombre del vecindario, para poder utilizar los datos de ubicación de Foursquare, necesitamos obtener las coordenadas de latitud y longitud de cada vecindario.\n",
    "\n",
    "En una versión anterior de este curso, estábamos aprovechando la API de codificación geográfica de Google Maps para obtener las coordenadas de latitud y longitud de cada vecindario. Sin embargo, recientemente Google comenzó a cobrar por su API: http://geoawesomeness.com/developers-up-in-arms-over-google-maps-api-insane-price-hike/ así que usaremos el paquete Geocoder Python en su lugar: https://geocoder.readthedocs.io/index.html.\n",
    "\n",
    "El problema con este paquete es que a veces tiene que ser persistente para obtener las coordenadas geográficas de un código postal determinado. Entonces puede hacer una llamada para obtener las coordenadas de latitud y longitud de un código postal dado y el resultado sería Ninguno, y luego realizar la llamada nuevamente y obtendría las coordenadas. Entonces, para asegurarse de obtener las coordenadas de todos nuestros vecindarios, puede ejecutar un ciclo while para cada código postal. Tomando el código postal M5G como ejemplo, su código se vería así:"
   ]
  },
  {
   "cell_type": "code",
   "execution_count": null,
   "id": "57a6edfd",
   "metadata": {},
   "outputs": [],
   "source": [
    "import geocoder # import geocoder\n",
    "\n",
    "# initialize your variable to None\n",
    "lat_lng_coords = None\n",
    "\n",
    "# loop until you get the coordinates\n",
    "while(lat_lng_coords is None):\n",
    "  g = geocoder.google('{}, Toronto, Ontario'.format(postal_code))\n",
    "  lat_lng_coords = g.latlng\n",
    "\n",
    "latitude = lat_lng_coords[0]\n",
    "longitude = lat_lng_coords[1]"
   ]
  },
  {
   "cell_type": "markdown",
   "id": "5d4c3e5b",
   "metadata": {},
   "source": [
    "Dado que este paquete puede ser muy poco confiable, en caso de que no pueda obtener las coordenadas geográficas de los vecindarios usando el paquete Geocoder, aquí hay un enlace a un archivo csv que tiene las coordenadas geográficas de cada código postal: http://cocl.us/Geospatial_data\n",
    "\n",
    "Utilice el paquete Geocoder o el archivo csv para crear el siguiente marco de datos:\n",
    "\n",
    "Nota importante: Hay un límite en la cantidad de veces que puede llamar a la función geocoder.google. Es 2500 veces al día. Esto debería ser más que suficiente para que se familiarice con el paquete y lo utilice para obtener las coordenadas geográficas de los vecindarios de Toronto.\n",
    "\n",
    "Una vez que pueda crear el marco de datos anterior, envíe un enlace al nuevo Notebook en su repositorio de Github. (2 puntos)"
   ]
  },
  {
   "cell_type": "markdown",
   "id": "38f900b9",
   "metadata": {},
   "source": []
  }
 ],
 "metadata": {
  "kernelspec": {
   "display_name": "Python 3.9.13 ('base')",
   "language": "python",
   "name": "python3"
  },
  "language_info": {
   "codemirror_mode": {
    "name": "ipython",
    "version": 3
   },
   "file_extension": ".py",
   "mimetype": "text/x-python",
   "name": "python",
   "nbconvert_exporter": "python",
   "pygments_lexer": "ipython3",
   "version": "3.9.13"
  },
  "vscode": {
   "interpreter": {
    "hash": "40d3a090f54c6569ab1632332b64b2c03c39dcf918b08424e98f38b5ae0af88f"
   }
  }
 },
 "nbformat": 4,
 "nbformat_minor": 5
}
