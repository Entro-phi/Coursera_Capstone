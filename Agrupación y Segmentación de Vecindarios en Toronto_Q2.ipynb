{
 "cells": [
  {
   "cell_type": "markdown",
   "id": "0a1fc41f",
   "metadata": {},
   "source": [
    "# Agrupación y Segmentación de Vecindarios en Toronto\n",
    "## Parte 2"
   ]
  },
  {
   "cell_type": "markdown",
   "id": "531a8775",
   "metadata": {},
   "source": [
    "Ahora que ha creado un marco de datos del código postal de cada vecindario junto con el nombre del municipio y el nombre del vecindario, para poder utilizar los datos de ubicación de Foursquare, necesitamos obtener las coordenadas de latitud y longitud de cada vecindario.\n",
    "\n",
    "En una versión anterior de este curso, estábamos aprovechando la API de codificación geográfica de Google Maps para obtener las coordenadas de latitud y longitud de cada vecindario. Sin embargo, recientemente Google comenzó a cobrar por su API: http://geoawesomeness.com/developers-up-in-arms-over-google-maps-api-insane-price-hike/ así que usaremos el paquete Geocoder Python en su lugar: https://geocoder.readthedocs.io/index.html.\n",
    "\n",
    "El problema con este paquete es que a veces tiene que ser persistente para obtener las coordenadas geográficas de un código postal determinado. Entonces puede hacer una llamada para obtener las coordenadas de latitud y longitud de un código postal dado y el resultado sería Ninguno, y luego realizar la llamada nuevamente y obtendría las coordenadas. Entonces, para asegurarse de obtener las coordenadas de todos nuestros vecindarios, puede ejecutar un ciclo while para cada código postal. Tomando el código postal M5G como ejemplo, su código se vería así:"
   ]
  },
  {
   "cell_type": "code",
   "execution_count": 1,
   "id": "f6f742ae",
   "metadata": {},
   "outputs": [
    {
     "data": {
      "text/plain": [
       "\"\\nimport geocoder # import geocoder\\n\\n# initialize your variable to None\\nlat_lng_coords = None\\n\\n# loop until you get the coordinates\\nwhile(lat_lng_coords is None):\\n  g = geocoder.google('{}, Toronto, Ontario'.format(postal_code))\\n  lat_lng_coords = g.latlng\\n\\nlatitude = lat_lng_coords[0]\\nlongitude = lat_lng_coords[1]\\n\""
      ]
     },
     "execution_count": 1,
     "metadata": {},
     "output_type": "execute_result"
    }
   ],
   "source": [
    "\"\"\"\n",
    "import geocoder # import geocoder\n",
    "\n",
    "# initialize your variable to None\n",
    "lat_lng_coords = None\n",
    "\n",
    "# loop until you get the coordinates\n",
    "while(lat_lng_coords is None):\n",
    "  g = geocoder.google('{}, Toronto, Ontario'.format(postal_code))\n",
    "  lat_lng_coords = g.latlng\n",
    "\n",
    "latitude = lat_lng_coords[0]\n",
    "longitude = lat_lng_coords[1]\n",
    "\"\"\""
   ]
  },
  {
   "cell_type": "markdown",
   "id": "5d4c3e5b",
   "metadata": {},
   "source": [
    "Dado que este paquete puede ser muy poco confiable, en caso de que no pueda obtener las coordenadas geográficas de los vecindarios usando el paquete Geocoder, aquí hay un enlace a un archivo csv que tiene las coordenadas geográficas de cada código postal: http://cocl.us/Geospatial_data\n",
    "\n",
    "Utilice el paquete Geocoder o el archivo csv para crear el siguiente marco de datos:\n",
    "\n",
    "Nota importante: Hay un límite en la cantidad de veces que puede llamar a la función geocoder.google. Es 2500 veces al día. Esto debería ser más que suficiente para que se familiarice con el paquete y lo utilice para obtener las coordenadas geográficas de los vecindarios de Toronto."
   ]
  },
  {
   "cell_type": "code",
   "execution_count": 2,
   "id": "3efc4ee5",
   "metadata": {},
   "outputs": [],
   "source": [
    "# Importamos \"Numpy\" como 'np'\n",
    "import numpy as np \n",
    "# Importamos \"Pandas\" como \"pd\"\n",
    "import pandas as pd\n",
    "\n",
    "# Leemos el archivo del ejercicio anterior y lo asignamos a la variable \"noDuplicated\"\n",
    "noDuplicated = pd.read_csv(\"Toronto_Q1.csv\")"
   ]
  },
  {
   "cell_type": "markdown",
   "id": "1e65ea8e",
   "metadata": {},
   "source": [
    "### Cogemos los datos Geoespaciales"
   ]
  },
  {
   "cell_type": "code",
   "execution_count": 3,
   "id": "e5d4f9ee",
   "metadata": {},
   "outputs": [
    {
     "name": "stdout",
     "output_type": "stream",
     "text": [
      "URL transformed to HTTPS due to an HSTS policy\n",
      "--2022-12-28 17:09:19--  https://cocl.us/Geospatial_data\n",
      "Resolviendo cocl.us (cocl.us)... 104.86.111.42, 104.86.111.9\n",
      "Conectando con cocl.us (cocl.us)[104.86.111.42]:443... conectado.\n",
      "Petición HTTP enviada, esperando respuesta... 302 Moved Temporarily\n",
      "Localización: https://ibm.box.com/shared/static/9afzr83pps4pwf2smjjcf1y5mvgb18rr.csv [siguiendo]\n",
      "--2022-12-28 17:09:20--  https://ibm.box.com/shared/static/9afzr83pps4pwf2smjjcf1y5mvgb18rr.csv\n",
      "Resolviendo ibm.box.com (ibm.box.com)... 74.112.186.144\n",
      "Conectando con ibm.box.com (ibm.box.com)[74.112.186.144]:443... conectado.\n",
      "Petición HTTP enviada, esperando respuesta... 301 Moved Permanently\n",
      "Localización: /public/static/9afzr83pps4pwf2smjjcf1y5mvgb18rr.csv [siguiendo]\n",
      "--2022-12-28 17:09:22--  https://ibm.box.com/public/static/9afzr83pps4pwf2smjjcf1y5mvgb18rr.csv\n",
      "Reutilizando la conexión con ibm.box.com:443.\n",
      "Petición HTTP enviada, esperando respuesta... 301 Moved Permanently\n",
      "Localización: https://ibm.ent.box.com/public/static/9afzr83pps4pwf2smjjcf1y5mvgb18rr.csv [siguiendo]\n",
      "--2022-12-28 17:09:22--  https://ibm.ent.box.com/public/static/9afzr83pps4pwf2smjjcf1y5mvgb18rr.csv\n",
      "Resolviendo ibm.ent.box.com (ibm.ent.box.com)... 74.112.186.144\n",
      "Conectando con ibm.ent.box.com (ibm.ent.box.com)[74.112.186.144]:443... conectado.\n",
      "Petición HTTP enviada, esperando respuesta... 302 Found\n",
      "Localización: https://dl2.boxcloud.com/d/1/b1!KZCVlBPN2qXA3TYXnohGrQxUyUzlpLjlLzo54NxJUkYlqbOzeJHApIVU4Lka8p7zt3yqDsJFsaNubWJCOrRXUGGR5MUQLoRZgdmhzSCcJHabk1bnC0bY_fPDJGveXN0QJUeLc79bILhZ5U_hNrJTwFis-DZfqoLNYNY3fSr_UEql1Kd_Ihii_HhAM9lckXgkBKNvExZoY-20ZndXBKgZNDXKRiSt6vSE-vxP33H8ReTCKgkUlQ6wW5cOLUz48qHafafK90xMaBUD1iNaXcbg_m-oWWCjNVnmrKCkTKAgtDl3_aNJ-jLB7ymfCW49PBXvm1FvujGtMXpI_H9zAnH6v2ulaOwU00iBw87U4UhbAUlTyioiparK0JOm7kqSZNeYNq3ug1N5nDul_qa1Edn2qHR5RjsjFMYxXb_h_DgigSOs5RDk9Gojn0mpuVNA6jEcnZwr6ddKLvKDN3QJgkxqsC-0KxLEDqot0Oed2h7UUuRcfXkSlf9-WLTqNU46IZLzKWf2tqARA8QbRY1_8c0jOkTXltru3XFyoqC4TKCwQLZcNxvsRN379ma9FBi7h0phxH_Vu92EIURm3SLXctdnxaWBCJHlWgDGTdzSMa7fMTrc2vPMtEeif_BHlRPZ_7DDisnnAU6iI1UnVeeWIrsqzCP5krDikFAEU1oeIqT6COUoISC0068XKPMfHqD3odNh_zrSCFUSAJASf9n30bSUAzgMPoUOaJJBFI6SgD-j7FcxN8EGA2JhkrnEtYvUs482TBw9z4N27kmLi6nggxgJVzzqEfXcW9HCy872Ds0wj7UDzok4YQYh8aEZCqftHXaVO9eiOngOQU2KIOHozzBHQLfChJW395bePM3S4kePJBLNl0oMiHFEJWVgCRg8ZyL4LP_siMCY-t3zQZEPNAsN3VBkybQB2rULs8q9WvD44kZ-w5x7Jd7Cr-4jmbTRC65JBU2wYSd_6eN8rqtqauj8XyBNrzpMt_mJ3iFluawsvGFNfOL3XW1ytU8yQgaRksZbjXP6Cm6kDCaTkxiGZhywptWoOzXb52OAc2sXdIbR7enClgDUlox6wgRK9C0H3_RrMGigABH184K1nUD6Q-o2hX5Jop5AN1zXLU8Jd7IhVHtExozAGMzusP44BW717bxREvJjfo80Qcg0Q3Jt1JmA3ed-gdYUeZK_d3JRlKbAjSk9HtiZF8_iAoNUoR1KWAn5__a6Ue2-TpQNrgR7Gmhdi0WQjT8c_3GTbI9kZLotAVjLseY6OxWQDx04-R0vM-qz3klHWeFTdgDuLZ--rd_Gki50ElbMfJz_Rkhv1l3DJj42RG8YGvhf5m7RV_8wHzlZCib8EP7VT28qosBzXVdGsV1CQZwlT7oqE4I0b0uaX7-HVD76phC7Ehnq8WExt4J92wYu2t-7pp74e5c39N7ueEa1OubjWe2ivwIwTOQ./download [siguiendo]\n",
      "--2022-12-28 17:09:23--  https://dl2.boxcloud.com/d/1/b1!KZCVlBPN2qXA3TYXnohGrQxUyUzlpLjlLzo54NxJUkYlqbOzeJHApIVU4Lka8p7zt3yqDsJFsaNubWJCOrRXUGGR5MUQLoRZgdmhzSCcJHabk1bnC0bY_fPDJGveXN0QJUeLc79bILhZ5U_hNrJTwFis-DZfqoLNYNY3fSr_UEql1Kd_Ihii_HhAM9lckXgkBKNvExZoY-20ZndXBKgZNDXKRiSt6vSE-vxP33H8ReTCKgkUlQ6wW5cOLUz48qHafafK90xMaBUD1iNaXcbg_m-oWWCjNVnmrKCkTKAgtDl3_aNJ-jLB7ymfCW49PBXvm1FvujGtMXpI_H9zAnH6v2ulaOwU00iBw87U4UhbAUlTyioiparK0JOm7kqSZNeYNq3ug1N5nDul_qa1Edn2qHR5RjsjFMYxXb_h_DgigSOs5RDk9Gojn0mpuVNA6jEcnZwr6ddKLvKDN3QJgkxqsC-0KxLEDqot0Oed2h7UUuRcfXkSlf9-WLTqNU46IZLzKWf2tqARA8QbRY1_8c0jOkTXltru3XFyoqC4TKCwQLZcNxvsRN379ma9FBi7h0phxH_Vu92EIURm3SLXctdnxaWBCJHlWgDGTdzSMa7fMTrc2vPMtEeif_BHlRPZ_7DDisnnAU6iI1UnVeeWIrsqzCP5krDikFAEU1oeIqT6COUoISC0068XKPMfHqD3odNh_zrSCFUSAJASf9n30bSUAzgMPoUOaJJBFI6SgD-j7FcxN8EGA2JhkrnEtYvUs482TBw9z4N27kmLi6nggxgJVzzqEfXcW9HCy872Ds0wj7UDzok4YQYh8aEZCqftHXaVO9eiOngOQU2KIOHozzBHQLfChJW395bePM3S4kePJBLNl0oMiHFEJWVgCRg8ZyL4LP_siMCY-t3zQZEPNAsN3VBkybQB2rULs8q9WvD44kZ-w5x7Jd7Cr-4jmbTRC65JBU2wYSd_6eN8rqtqauj8XyBNrzpMt_mJ3iFluawsvGFNfOL3XW1ytU8yQgaRksZbjXP6Cm6kDCaTkxiGZhywptWoOzXb52OAc2sXdIbR7enClgDUlox6wgRK9C0H3_RrMGigABH184K1nUD6Q-o2hX5Jop5AN1zXLU8Jd7IhVHtExozAGMzusP44BW717bxREvJjfo80Qcg0Q3Jt1JmA3ed-gdYUeZK_d3JRlKbAjSk9HtiZF8_iAoNUoR1KWAn5__a6Ue2-TpQNrgR7Gmhdi0WQjT8c_3GTbI9kZLotAVjLseY6OxWQDx04-R0vM-qz3klHWeFTdgDuLZ--rd_Gki50ElbMfJz_Rkhv1l3DJj42RG8YGvhf5m7RV_8wHzlZCib8EP7VT28qosBzXVdGsV1CQZwlT7oqE4I0b0uaX7-HVD76phC7Ehnq8WExt4J92wYu2t-7pp74e5c39N7ueEa1OubjWe2ivwIwTOQ./download\n",
      "Resolviendo dl2.boxcloud.com (dl2.boxcloud.com)... 74.112.186.128\n",
      "Conectando con dl2.boxcloud.com (dl2.boxcloud.com)[74.112.186.128]:443... conectado.\n",
      "Petición HTTP enviada, esperando respuesta... 200 OK\n",
      "Longitud: 2891 (2,8K) [text/csv]\n",
      "Grabando a: «Geospatial_data»\n",
      "\n",
      "Geospatial_data     100%[===================>]   2,82K  --.-KB/s    en 0s      \n",
      "\n",
      "2022-12-28 17:09:24 (46,0 MB/s) - «Geospatial_data» guardado [2891/2891]\n",
      "\n"
     ]
    }
   ],
   "source": [
    "# Descargamos datos Geoespaciales\n",
    "!wget http://cocl.us/Geospatial_data"
   ]
  },
  {
   "cell_type": "markdown",
   "id": "6baf5854",
   "metadata": {},
   "source": [
    "### Mergeamos los datos Geoespaciales con nuestro .csv del notebook anterior."
   ]
  },
  {
   "cell_type": "code",
   "execution_count": 4,
   "id": "541b7dd0",
   "metadata": {},
   "outputs": [
    {
     "data": {
      "text/html": [
       "<div>\n",
       "<style scoped>\n",
       "    .dataframe tbody tr th:only-of-type {\n",
       "        vertical-align: middle;\n",
       "    }\n",
       "\n",
       "    .dataframe tbody tr th {\n",
       "        vertical-align: top;\n",
       "    }\n",
       "\n",
       "    .dataframe thead th {\n",
       "        text-align: right;\n",
       "    }\n",
       "</style>\n",
       "<table border=\"1\" class=\"dataframe\">\n",
       "  <thead>\n",
       "    <tr style=\"text-align: right;\">\n",
       "      <th></th>\n",
       "      <th>CódigoPostal</th>\n",
       "      <th>Municipio</th>\n",
       "      <th>Vecindario</th>\n",
       "      <th>Latitud</th>\n",
       "      <th>Longitud</th>\n",
       "    </tr>\n",
       "  </thead>\n",
       "  <tbody>\n",
       "    <tr>\n",
       "      <th>0</th>\n",
       "      <td>M3A</td>\n",
       "      <td>North York</td>\n",
       "      <td>Parkwoods</td>\n",
       "      <td>43.753259</td>\n",
       "      <td>-79.329656</td>\n",
       "    </tr>\n",
       "    <tr>\n",
       "      <th>1</th>\n",
       "      <td>M4A</td>\n",
       "      <td>North York</td>\n",
       "      <td>Victoria Village</td>\n",
       "      <td>43.725882</td>\n",
       "      <td>-79.315572</td>\n",
       "    </tr>\n",
       "    <tr>\n",
       "      <th>2</th>\n",
       "      <td>M5A</td>\n",
       "      <td>Downtown Toronto</td>\n",
       "      <td>Regent Park / Harbourfront</td>\n",
       "      <td>43.654260</td>\n",
       "      <td>-79.360636</td>\n",
       "    </tr>\n",
       "    <tr>\n",
       "      <th>3</th>\n",
       "      <td>M6A</td>\n",
       "      <td>North York</td>\n",
       "      <td>Lawrence Manor / Lawrence Heights</td>\n",
       "      <td>43.718518</td>\n",
       "      <td>-79.464763</td>\n",
       "    </tr>\n",
       "    <tr>\n",
       "      <th>4</th>\n",
       "      <td>M7A</td>\n",
       "      <td>Queen's Park</td>\n",
       "      <td>Ontario Provincial Government</td>\n",
       "      <td>43.662301</td>\n",
       "      <td>-79.389494</td>\n",
       "    </tr>\n",
       "    <tr>\n",
       "      <th>...</th>\n",
       "      <td>...</td>\n",
       "      <td>...</td>\n",
       "      <td>...</td>\n",
       "      <td>...</td>\n",
       "      <td>...</td>\n",
       "    </tr>\n",
       "    <tr>\n",
       "      <th>98</th>\n",
       "      <td>M8X</td>\n",
       "      <td>Etobicoke</td>\n",
       "      <td>The Kingsway / Montgomery Road / Old Mill North</td>\n",
       "      <td>43.653654</td>\n",
       "      <td>-79.506944</td>\n",
       "    </tr>\n",
       "    <tr>\n",
       "      <th>99</th>\n",
       "      <td>M4Y</td>\n",
       "      <td>Downtown Toronto</td>\n",
       "      <td>Church and Wellesley</td>\n",
       "      <td>43.665860</td>\n",
       "      <td>-79.383160</td>\n",
       "    </tr>\n",
       "    <tr>\n",
       "      <th>100</th>\n",
       "      <td>M7Y</td>\n",
       "      <td>East TorontoBusiness reply mail Processing Cen...</td>\n",
       "      <td>Enclave of M4L</td>\n",
       "      <td>43.662744</td>\n",
       "      <td>-79.321558</td>\n",
       "    </tr>\n",
       "    <tr>\n",
       "      <th>101</th>\n",
       "      <td>M8Y</td>\n",
       "      <td>Etobicoke</td>\n",
       "      <td>Old Mill South / King's Mill Park / Sunnylea /...</td>\n",
       "      <td>43.636258</td>\n",
       "      <td>-79.498509</td>\n",
       "    </tr>\n",
       "    <tr>\n",
       "      <th>102</th>\n",
       "      <td>M8Z</td>\n",
       "      <td>Etobicoke</td>\n",
       "      <td>Mimico NW / The Queensway West / South of Bloo...</td>\n",
       "      <td>43.628841</td>\n",
       "      <td>-79.520999</td>\n",
       "    </tr>\n",
       "  </tbody>\n",
       "</table>\n",
       "<p>103 rows × 5 columns</p>\n",
       "</div>"
      ],
      "text/plain": [
       "    CódigoPostal                                          Municipio  \\\n",
       "0            M3A                                         North York   \n",
       "1            M4A                                         North York   \n",
       "2            M5A                                   Downtown Toronto   \n",
       "3            M6A                                         North York   \n",
       "4            M7A                                       Queen's Park   \n",
       "..           ...                                                ...   \n",
       "98           M8X                                          Etobicoke   \n",
       "99           M4Y                                   Downtown Toronto   \n",
       "100          M7Y  East TorontoBusiness reply mail Processing Cen...   \n",
       "101          M8Y                                          Etobicoke   \n",
       "102          M8Z                                          Etobicoke   \n",
       "\n",
       "                                            Vecindario    Latitud   Longitud  \n",
       "0                                            Parkwoods  43.753259 -79.329656  \n",
       "1                                     Victoria Village  43.725882 -79.315572  \n",
       "2                           Regent Park / Harbourfront  43.654260 -79.360636  \n",
       "3                    Lawrence Manor / Lawrence Heights  43.718518 -79.464763  \n",
       "4                        Ontario Provincial Government  43.662301 -79.389494  \n",
       "..                                                 ...        ...        ...  \n",
       "98     The Kingsway / Montgomery Road / Old Mill North  43.653654 -79.506944  \n",
       "99                                Church and Wellesley  43.665860 -79.383160  \n",
       "100                                     Enclave of M4L  43.662744 -79.321558  \n",
       "101  Old Mill South / King's Mill Park / Sunnylea /...  43.636258 -79.498509  \n",
       "102  Mimico NW / The Queensway West / South of Bloo...  43.628841 -79.520999  \n",
       "\n",
       "[103 rows x 5 columns]"
      ]
     },
     "execution_count": 4,
     "metadata": {},
     "output_type": "execute_result"
    }
   ],
   "source": [
    "geo = pd.read_csv('Geospatial_data')\n",
    "geo.columns = ['CódigoPostal', 'Latitud', 'Longitud']\n",
    "# Mergeamos el dataFrame de no duplicados con las coordenadas \n",
    "df_merged = pd.merge(noDuplicated, geo, on='CódigoPostal', how='inner')\n",
    "\n",
    "# Guardamos los datos en \"Toronto_Q2.csv\"\n",
    "df_merged.to_csv(\"Toronto_Q2.csv\", index=False)\n",
    "df_merged"
   ]
  },
  {
   "cell_type": "markdown",
   "id": "94ad7aff",
   "metadata": {},
   "source": [
    "Una vez que pueda crear el marco de datos anterior, envíe un enlace al nuevo Notebook en su repositorio de Github. (2 puntos)"
   ]
  }
 ],
 "metadata": {
  "kernelspec": {
   "display_name": "Python 3.9.13 ('base')",
   "language": "python",
   "name": "python3"
  },
  "language_info": {
   "codemirror_mode": {
    "name": "ipython",
    "version": 3
   },
   "file_extension": ".py",
   "mimetype": "text/x-python",
   "name": "python",
   "nbconvert_exporter": "python",
   "pygments_lexer": "ipython3",
   "version": "3.9.13"
  },
  "vscode": {
   "interpreter": {
    "hash": "40d3a090f54c6569ab1632332b64b2c03c39dcf918b08424e98f38b5ae0af88f"
   }
  }
 },
 "nbformat": 4,
 "nbformat_minor": 5
}
