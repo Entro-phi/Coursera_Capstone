{
 "cells": [
  {
   "cell_type": "markdown",
   "id": "178f3892",
   "metadata": {},
   "source": [
    "# Agrupación y Segmentación de Vecindarios en Toronto\n",
    "## Parte 1"
   ]
  },
  {
   "cell_type": "markdown",
   "id": "613827c7",
   "metadata": {},
   "source": [
    "1. Empiece por crear un nuevo Notebook para esta tarea.\n",
    "2. Use el Cuaderno para crear el código para rastrear la siguiente página de Wikipedia, https://en.wikipedia.org/wiki/List_of_postal_codes_of_Canada:_M, para obtener los datos que están en la tabla de códigos postales y transformar los datos en un marco de datos de pandas como el que se muestra a continuación:"
   ]
  },
  {
   "cell_type": "markdown",
   "id": "8885ee45",
   "metadata": {},
   "source": [
    "Importamos las librerías que vamos a utilizar.\n",
    "Después usamos \"wget\" para descargarnos la página de wikipedia de Vecindarios de Toronto."
   ]
  },
  {
   "cell_type": "code",
   "execution_count": 1,
   "id": "b56af57f",
   "metadata": {},
   "outputs": [
    {
     "name": "stdout",
     "output_type": "stream",
     "text": [
      "--2022-12-28 12:38:13--  https://en.wikipedia.org/wiki/List_of_postal_codes_of_Canada:_M\n",
      "Resolviendo en.wikipedia.org (en.wikipedia.org)... 185.15.58.224\n",
      "Conectando con en.wikipedia.org (en.wikipedia.org)[185.15.58.224]:443... conectado.\n",
      "Petición HTTP enviada, esperando respuesta... 200 OK\n",
      "Longitud: no especificado [text/html]\n",
      "Grabando a: «List_of_postal_codes_of_Canada:_M.1»\n",
      "\n",
      "List_of_postal_code     [  <=>               ]  89,40K   372KB/s    en 0,2s    \n",
      "\n",
      "2022-12-28 12:38:13 (372 KB/s) - «List_of_postal_codes_of_Canada:_M.1» guardado [91550]\n",
      "\n",
      "✅  Lista de códigos postales descargada ✅\n"
     ]
    }
   ],
   "source": [
    "#Importamos la librería \"NumPy\" como 'np'\n",
    "#Importamos la librería \"Pandas\" como 'pd'\n",
    "#Importamos la librería \"Codecs\"\n",
    "#Importamos la librería \"BeautifulSoup\" desde \"bs4\"\n",
    "import numpy as np \n",
    "import pandas as pd\n",
    "import codecs\n",
    "from bs4 import BeautifulSoup\n",
    "#Usamos wget para descargar la información de la web\n",
    "!wget https://en.wikipedia.org/wiki/List_of_postal_codes_of_Canada:_M\n",
    "print(\"✅  Lista de códigos postales descargada ✅\")\n"
   ]
  },
  {
   "cell_type": "code",
   "execution_count": 2,
   "id": "45dbc464",
   "metadata": {},
   "outputs": [],
   "source": [
    "# Decodificamos el archivo y asignamos el resultado a \"archivo\"\n",
    "archivo = codecs.open('List_of_postal_codes_of_Canada:_M', encoding='utf-8')\n",
    "# Leemos el archivo y lo asignamos a la variable \"html\"\n",
    "html = archivo.read()\n",
    "# Creamos un objeto \"bsoup\" y parseamos el archivo leído previamente\n",
    "bsoup = BeautifulSoup(html, 'html.parser')\n",
    "# Asignamos la tabla a un \"DataFrame\"\n",
    "df = (pd.read_html(str(bsoup.table))[0])"
   ]
  },
  {
   "cell_type": "markdown",
   "id": "11c34e75",
   "metadata": {},
   "source": [
    "3. Para crear el marco de datos anterior:"
   ]
  },
  {
   "cell_type": "markdown",
   "id": "40cee638",
   "metadata": {},
   "source": [
    "●      El marco de datos constará de tres columnas: CódigoPostal, Municipio y Vecindario"
   ]
  },
  {
   "cell_type": "markdown",
   "id": "8c701918",
   "metadata": {},
   "source": [
    "    ● Leemos el archivo y lo asignamos a un \"string\".\n",
    "\n",
    "    ● Utilizaremos la librería \"Beautiful Soup\" para parsear la tabla de vecindarios a un objeto.\n",
    "\n",
    "    ● Cogemos sólo la sección de la tabla y la asignamos como DataFrame.\n",
    "\n",
    "    ● Renombramos las columnas.\n",
    "\n"
   ]
  },
  {
   "cell_type": "code",
   "execution_count": 3,
   "id": "44e4307e",
   "metadata": {},
   "outputs": [
    {
     "data": {
      "text/html": [
       "<div>\n",
       "<style scoped>\n",
       "    .dataframe tbody tr th:only-of-type {\n",
       "        vertical-align: middle;\n",
       "    }\n",
       "\n",
       "    .dataframe tbody tr th {\n",
       "        vertical-align: top;\n",
       "    }\n",
       "\n",
       "    .dataframe thead th {\n",
       "        text-align: right;\n",
       "    }\n",
       "</style>\n",
       "<table border=\"1\" class=\"dataframe\">\n",
       "  <thead>\n",
       "    <tr style=\"text-align: right;\">\n",
       "      <th></th>\n",
       "      <th>CódigoPostal</th>\n",
       "      <th>Municipio</th>\n",
       "      <th>Vecindario</th>\n",
       "    </tr>\n",
       "  </thead>\n",
       "  <tbody>\n",
       "    <tr>\n",
       "      <th>0</th>\n",
       "      <td>M1A</td>\n",
       "      <td>Not assigne</td>\n",
       "      <td>M1ANot assigne</td>\n",
       "    </tr>\n",
       "    <tr>\n",
       "      <th>1</th>\n",
       "      <td>M2A</td>\n",
       "      <td>Not assigne</td>\n",
       "      <td>M2ANot assigne</td>\n",
       "    </tr>\n",
       "    <tr>\n",
       "      <th>2</th>\n",
       "      <td>M3A</td>\n",
       "      <td>North York</td>\n",
       "      <td>Parkwoods</td>\n",
       "    </tr>\n",
       "    <tr>\n",
       "      <th>3</th>\n",
       "      <td>M4A</td>\n",
       "      <td>North York</td>\n",
       "      <td>Victoria Village</td>\n",
       "    </tr>\n",
       "    <tr>\n",
       "      <th>4</th>\n",
       "      <td>M5A</td>\n",
       "      <td>Downtown Toronto</td>\n",
       "      <td>Regent Park / Harbourfront</td>\n",
       "    </tr>\n",
       "    <tr>\n",
       "      <th>...</th>\n",
       "      <td>...</td>\n",
       "      <td>...</td>\n",
       "      <td>...</td>\n",
       "    </tr>\n",
       "    <tr>\n",
       "      <th>175</th>\n",
       "      <td>M5Z</td>\n",
       "      <td>Not assigne</td>\n",
       "      <td>M5ZNot assigne</td>\n",
       "    </tr>\n",
       "    <tr>\n",
       "      <th>176</th>\n",
       "      <td>M6Z</td>\n",
       "      <td>Not assigne</td>\n",
       "      <td>M6ZNot assigne</td>\n",
       "    </tr>\n",
       "    <tr>\n",
       "      <th>177</th>\n",
       "      <td>M7Z</td>\n",
       "      <td>Not assigne</td>\n",
       "      <td>M7ZNot assigne</td>\n",
       "    </tr>\n",
       "    <tr>\n",
       "      <th>178</th>\n",
       "      <td>M8Z</td>\n",
       "      <td>Etobicoke</td>\n",
       "      <td>Mimico NW / The Queensway West / South of Bloo...</td>\n",
       "    </tr>\n",
       "    <tr>\n",
       "      <th>179</th>\n",
       "      <td>M9Z</td>\n",
       "      <td>Not assigne</td>\n",
       "      <td>M9ZNot assigne</td>\n",
       "    </tr>\n",
       "  </tbody>\n",
       "</table>\n",
       "<p>180 rows × 3 columns</p>\n",
       "</div>"
      ],
      "text/plain": [
       "    CódigoPostal         Municipio  \\\n",
       "0            M1A       Not assigne   \n",
       "1            M2A       Not assigne   \n",
       "2            M3A        North York   \n",
       "3            M4A        North York   \n",
       "4            M5A  Downtown Toronto   \n",
       "..           ...               ...   \n",
       "175          M5Z       Not assigne   \n",
       "176          M6Z       Not assigne   \n",
       "177          M7Z       Not assigne   \n",
       "178          M8Z         Etobicoke   \n",
       "179          M9Z       Not assigne   \n",
       "\n",
       "                                            Vecindario  \n",
       "0                                       M1ANot assigne  \n",
       "1                                       M2ANot assigne  \n",
       "2                                            Parkwoods  \n",
       "3                                     Victoria Village  \n",
       "4                           Regent Park / Harbourfront  \n",
       "..                                                 ...  \n",
       "175                                     M5ZNot assigne  \n",
       "176                                     M6ZNot assigne  \n",
       "177                                     M7ZNot assigne  \n",
       "178  Mimico NW / The Queensway West / South of Bloo...  \n",
       "179                                     M9ZNot assigne  \n",
       "\n",
       "[180 rows x 3 columns]"
      ]
     },
     "execution_count": 3,
     "metadata": {},
     "output_type": "execute_result"
    }
   ],
   "source": [
    "# Asignamos los nombres de las columnas requeridos\n",
    "column_names = ['CódigoPostal', 'Municipio', 'Vecindario']\n",
    "# Creamos el DataFrame Final\n",
    "dfFinal = pd.DataFrame(columns = column_names)\n",
    "\n",
    "postalCode = []\n",
    "borough = []\n",
    "neighborhood = []\n",
    "# Recorremos el dataframe celda por celda y asignamos en 'dfFinal' los datos ordenados\n",
    "for index, row in df.iterrows():\n",
    "    for cell in row:\n",
    "        postalCode.append(cell[:3])\n",
    "        borough.append(cell[3:cell.find('(')])\n",
    "        neighborhood.append(cell[cell.find('(') + 1:cell.find(')')])\n",
    "\n",
    "dfFinal['CódigoPostal'] = postalCode\n",
    "dfFinal['Municipio'] = borough\n",
    "dfFinal['Vecindario'] = neighborhood\n",
    "\n",
    "dfFinal"
   ]
  },
  {
   "cell_type": "markdown",
   "id": "b97adf5e",
   "metadata": {},
   "source": [
    "\n",
    "●      Procese únicamente las celdas que tengan un municipio asignado. Ignore las celdas con un municipio que esté No asignado."
   ]
  },
  {
   "cell_type": "markdown",
   "id": "677e9cd3",
   "metadata": {},
   "source": [
    "    ● Eliminamos las celdas no asignadas para limpiar los datos."
   ]
  },
  {
   "cell_type": "code",
   "execution_count": 4,
   "id": "d5fb0a08",
   "metadata": {},
   "outputs": [],
   "source": [
    "# Nos deshacemos de los Municipios no asignados\n",
    "dfFinal = dfFinal[dfFinal['Municipio'] != \"Not assigne\"].reset_index(drop=True)"
   ]
  },
  {
   "cell_type": "markdown",
   "id": "d1c429a2",
   "metadata": {},
   "source": [
    "●      Puede existir más de un vecindario en un área de código postal. Por ejemplo, en la tabla de la página de Wikipedia, notará que M5A aparece dos veces y tiene dos vecindarios: Harbourfront y Regent Park. Estas dos filas se combinarán en una fila con los vecindarios separados con una coma como se muestra en la fila 11 en la tabla anterior."
   ]
  },
  {
   "cell_type": "markdown",
   "id": "729af29e",
   "metadata": {},
   "source": [
    "    No hay vecindarios no asignados, por lo tanto no es necesario añadir código para resolverlo en el momento de hacer este notebook.\n",
    "    No obstante, aquí tenemos cómo se ejecutaría."
   ]
  },
  {
   "cell_type": "code",
   "execution_count": 5,
   "id": "80f0b70c",
   "metadata": {},
   "outputs": [
    {
     "data": {
      "text/html": [
       "<div>\n",
       "<style scoped>\n",
       "    .dataframe tbody tr th:only-of-type {\n",
       "        vertical-align: middle;\n",
       "    }\n",
       "\n",
       "    .dataframe tbody tr th {\n",
       "        vertical-align: top;\n",
       "    }\n",
       "\n",
       "    .dataframe thead th {\n",
       "        text-align: right;\n",
       "    }\n",
       "</style>\n",
       "<table border=\"1\" class=\"dataframe\">\n",
       "  <thead>\n",
       "    <tr style=\"text-align: right;\">\n",
       "      <th></th>\n",
       "      <th>CódigoPostal</th>\n",
       "      <th>Municipio</th>\n",
       "      <th>Vecindario</th>\n",
       "    </tr>\n",
       "  </thead>\n",
       "  <tbody>\n",
       "    <tr>\n",
       "      <th>0</th>\n",
       "      <td>M3A</td>\n",
       "      <td>North York</td>\n",
       "      <td>Parkwoods</td>\n",
       "    </tr>\n",
       "    <tr>\n",
       "      <th>1</th>\n",
       "      <td>M4A</td>\n",
       "      <td>North York</td>\n",
       "      <td>Victoria Village</td>\n",
       "    </tr>\n",
       "    <tr>\n",
       "      <th>2</th>\n",
       "      <td>M5A</td>\n",
       "      <td>Downtown Toronto</td>\n",
       "      <td>Regent Park / Harbourfront</td>\n",
       "    </tr>\n",
       "    <tr>\n",
       "      <th>3</th>\n",
       "      <td>M6A</td>\n",
       "      <td>North York</td>\n",
       "      <td>Lawrence Manor / Lawrence Heights</td>\n",
       "    </tr>\n",
       "    <tr>\n",
       "      <th>4</th>\n",
       "      <td>M7A</td>\n",
       "      <td>Queen's Park</td>\n",
       "      <td>Ontario Provincial Government</td>\n",
       "    </tr>\n",
       "    <tr>\n",
       "      <th>5</th>\n",
       "      <td>M9A</td>\n",
       "      <td>Etobicoke</td>\n",
       "      <td>Islington Avenue</td>\n",
       "    </tr>\n",
       "    <tr>\n",
       "      <th>6</th>\n",
       "      <td>M1B</td>\n",
       "      <td>Scarborough</td>\n",
       "      <td>Malvern / Rouge</td>\n",
       "    </tr>\n",
       "    <tr>\n",
       "      <th>7</th>\n",
       "      <td>M3B</td>\n",
       "      <td>North York</td>\n",
       "      <td>Don Mills</td>\n",
       "    </tr>\n",
       "    <tr>\n",
       "      <th>8</th>\n",
       "      <td>M4B</td>\n",
       "      <td>East York</td>\n",
       "      <td>Parkview Hill / Woodbine Gardens</td>\n",
       "    </tr>\n",
       "    <tr>\n",
       "      <th>9</th>\n",
       "      <td>M5B</td>\n",
       "      <td>Downtown Toronto</td>\n",
       "      <td>Garden District, Ryerson</td>\n",
       "    </tr>\n",
       "  </tbody>\n",
       "</table>\n",
       "</div>"
      ],
      "text/plain": [
       "  CódigoPostal         Municipio                         Vecindario\n",
       "0          M3A        North York                          Parkwoods\n",
       "1          M4A        North York                   Victoria Village\n",
       "2          M5A  Downtown Toronto         Regent Park / Harbourfront\n",
       "3          M6A        North York  Lawrence Manor / Lawrence Heights\n",
       "4          M7A      Queen's Park      Ontario Provincial Government\n",
       "5          M9A         Etobicoke                   Islington Avenue\n",
       "6          M1B       Scarborough                    Malvern / Rouge\n",
       "7          M3B        North York                          Don Mills\n",
       "8          M4B         East York   Parkview Hill / Woodbine Gardens\n",
       "9          M5B  Downtown Toronto           Garden District, Ryerson"
      ]
     },
     "execution_count": 5,
     "metadata": {},
     "output_type": "execute_result"
    }
   ],
   "source": [
    "na = dfFinal[dfFinal['Vecindario']==\"Not assigned\"]\n",
    "for index in range(len(na)):\n",
    "    r = na.iloc[index]\n",
    "    r['Vecindario']=r['Municipio']\n",
    "    dfFinal.iloc[na.index[0]]['Vecindario'] = r['Municipio']\n",
    "\n",
    "dfFinal.head(10)   "
   ]
  },
  {
   "cell_type": "markdown",
   "id": "21b37032",
   "metadata": {},
   "source": [
    "●      Si una celda tiene un municipio, pero un vecindario No asignado, entonces el vecindario será el mismo que el municipio."
   ]
  },
  {
   "cell_type": "code",
   "execution_count": 6,
   "id": "57ed0cc3",
   "metadata": {},
   "outputs": [
    {
     "data": {
      "text/html": [
       "<div>\n",
       "<style scoped>\n",
       "    .dataframe tbody tr th:only-of-type {\n",
       "        vertical-align: middle;\n",
       "    }\n",
       "\n",
       "    .dataframe tbody tr th {\n",
       "        vertical-align: top;\n",
       "    }\n",
       "\n",
       "    .dataframe thead th {\n",
       "        text-align: right;\n",
       "    }\n",
       "</style>\n",
       "<table border=\"1\" class=\"dataframe\">\n",
       "  <thead>\n",
       "    <tr style=\"text-align: right;\">\n",
       "      <th></th>\n",
       "      <th>CódigoPostal</th>\n",
       "      <th>Municipio</th>\n",
       "      <th>Vecindario</th>\n",
       "    </tr>\n",
       "  </thead>\n",
       "  <tbody>\n",
       "    <tr>\n",
       "      <th>0</th>\n",
       "      <td>M3A</td>\n",
       "      <td>North York</td>\n",
       "      <td>Parkwoods</td>\n",
       "    </tr>\n",
       "    <tr>\n",
       "      <th>1</th>\n",
       "      <td>M4A</td>\n",
       "      <td>North York</td>\n",
       "      <td>Victoria Village</td>\n",
       "    </tr>\n",
       "    <tr>\n",
       "      <th>2</th>\n",
       "      <td>M5A</td>\n",
       "      <td>Downtown Toronto</td>\n",
       "      <td>Regent Park / Harbourfront</td>\n",
       "    </tr>\n",
       "    <tr>\n",
       "      <th>3</th>\n",
       "      <td>M6A</td>\n",
       "      <td>North York</td>\n",
       "      <td>Lawrence Manor / Lawrence Heights</td>\n",
       "    </tr>\n",
       "    <tr>\n",
       "      <th>4</th>\n",
       "      <td>M7A</td>\n",
       "      <td>Queen's Park</td>\n",
       "      <td>Ontario Provincial Government</td>\n",
       "    </tr>\n",
       "    <tr>\n",
       "      <th>...</th>\n",
       "      <td>...</td>\n",
       "      <td>...</td>\n",
       "      <td>...</td>\n",
       "    </tr>\n",
       "    <tr>\n",
       "      <th>98</th>\n",
       "      <td>M8X</td>\n",
       "      <td>Etobicoke</td>\n",
       "      <td>The Kingsway / Montgomery Road / Old Mill North</td>\n",
       "    </tr>\n",
       "    <tr>\n",
       "      <th>99</th>\n",
       "      <td>M4Y</td>\n",
       "      <td>Downtown Toronto</td>\n",
       "      <td>Church and Wellesley</td>\n",
       "    </tr>\n",
       "    <tr>\n",
       "      <th>100</th>\n",
       "      <td>M7Y</td>\n",
       "      <td>East TorontoBusiness reply mail Processing Cen...</td>\n",
       "      <td>Enclave of M4L</td>\n",
       "    </tr>\n",
       "    <tr>\n",
       "      <th>101</th>\n",
       "      <td>M8Y</td>\n",
       "      <td>Etobicoke</td>\n",
       "      <td>Old Mill South / King's Mill Park / Sunnylea /...</td>\n",
       "    </tr>\n",
       "    <tr>\n",
       "      <th>102</th>\n",
       "      <td>M8Z</td>\n",
       "      <td>Etobicoke</td>\n",
       "      <td>Mimico NW / The Queensway West / South of Bloo...</td>\n",
       "    </tr>\n",
       "  </tbody>\n",
       "</table>\n",
       "<p>103 rows × 3 columns</p>\n",
       "</div>"
      ],
      "text/plain": [
       "    CódigoPostal                                          Municipio  \\\n",
       "0            M3A                                         North York   \n",
       "1            M4A                                         North York   \n",
       "2            M5A                                   Downtown Toronto   \n",
       "3            M6A                                         North York   \n",
       "4            M7A                                       Queen's Park   \n",
       "..           ...                                                ...   \n",
       "98           M8X                                          Etobicoke   \n",
       "99           M4Y                                   Downtown Toronto   \n",
       "100          M7Y  East TorontoBusiness reply mail Processing Cen...   \n",
       "101          M8Y                                          Etobicoke   \n",
       "102          M8Z                                          Etobicoke   \n",
       "\n",
       "                                            Vecindario  \n",
       "0                                            Parkwoods  \n",
       "1                                     Victoria Village  \n",
       "2                           Regent Park / Harbourfront  \n",
       "3                    Lawrence Manor / Lawrence Heights  \n",
       "4                        Ontario Provincial Government  \n",
       "..                                                 ...  \n",
       "98     The Kingsway / Montgomery Road / Old Mill North  \n",
       "99                                Church and Wellesley  \n",
       "100                                     Enclave of M4L  \n",
       "101  Old Mill South / King's Mill Park / Sunnylea /...  \n",
       "102  Mimico NW / The Queensway West / South of Bloo...  \n",
       "\n",
       "[103 rows x 3 columns]"
      ]
     },
     "execution_count": 6,
     "metadata": {},
     "output_type": "execute_result"
    }
   ],
   "source": [
    "aggregations = {\n",
    "    'Vecindario':lambda x:'/ '.join(x)}\n",
    "gb = dfFinal.groupby('CódigoPostal').agg(aggregations).reset_index()\n",
    "x = dfFinal.drop('Vecindario',axis=1)\n",
    "m = pd.merge(x, gb, on='CódigoPostal', how='left')\n",
    "noDuplicated = m.drop_duplicates()\n",
    "noDuplicated.to_csv(\"Toronto_Q1.csv\", index=False)\n",
    "noDuplicated"
   ]
  },
  {
   "cell_type": "markdown",
   "id": "9f9463e2",
   "metadata": {},
   "source": [
    "\n",
    "●      Limpie su Notebook y agregue celdas de Anotación para explicar su trabajo y cualquier suposición que esté haciendo.\n",
    "\n",
    "●      En la última celda de su notebook, use el método .shape para imprimir el número de filas de su marco de datos."
   ]
  },
  {
   "cell_type": "code",
   "execution_count": 7,
   "id": "75639dcf",
   "metadata": {},
   "outputs": [
    {
     "data": {
      "text/plain": [
       "(103, 3)"
      ]
     },
     "execution_count": 7,
     "metadata": {},
     "output_type": "execute_result"
    }
   ],
   "source": [
    "noDuplicated.shape"
   ]
  },
  {
   "cell_type": "markdown",
   "id": "c81891a2",
   "metadata": {},
   "source": [
    "4. Envíe un enlace a su notebook en su repositorio de Github. (10 puntos)\n",
    "\n",
    "Nota: Existen diferentes bibliotecas y paquetes de raspado de sitios web en Python. Para indagar minuciosamente la tabla anterior, simplemente puede usar pandas para leer la tabla en un marco de datos de pandas.\n",
    "\n",
    "Otra forma, que ayudaría a aprender para casos más complicados de rastreo web es usando el paquete BeautifulSoup. Aquí está la página de documentación principal del paquete: http://beautiful-soup-4.readthedocs.io/en/latest/\n",
    "\n",
    "Use pandas, o el paquete BeautifulSoup, o cualquier otra forma con la que se sienta cómodo para transformar los datos de la tabla en la página de Wikipedia en el marco de datos de pandas anterior."
   ]
  }
 ],
 "metadata": {
  "kernelspec": {
   "display_name": "Python 3.9.13 ('base')",
   "language": "python",
   "name": "python3"
  },
  "language_info": {
   "codemirror_mode": {
    "name": "ipython",
    "version": 3
   },
   "file_extension": ".py",
   "mimetype": "text/x-python",
   "name": "python",
   "nbconvert_exporter": "python",
   "pygments_lexer": "ipython3",
   "version": "3.9.13"
  },
  "vscode": {
   "interpreter": {
    "hash": "40d3a090f54c6569ab1632332b64b2c03c39dcf918b08424e98f38b5ae0af88f"
   }
  }
 },
 "nbformat": 4,
 "nbformat_minor": 5
}
