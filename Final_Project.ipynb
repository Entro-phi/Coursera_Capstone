{
 "cells": [
  {
   "cell_type": "markdown",
   "id": "78285b81",
   "metadata": {},
   "source": [
    "\n",
    "# Proyecto Final\n"
   ]
  },
  {
   "cell_type": "markdown",
   "id": "6fef1706",
   "metadata": {},
   "source": [
    "**Este notebook se utilizará principalmente para el proyecto final del certificado \"IBM Data Science\".**"
   ]
  },
  {
   "cell_type": "code",
   "execution_count": null,
   "id": "b8869b09",
   "metadata": {},
   "outputs": [],
   "source": [
    "import pandas as pd\n",
    "import numpy as np\n",
    "\n",
    "print(\"!Hola, Proyecto Final del Curso!\")"
   ]
  }
 ],
 "metadata": {
  "kernelspec": {
   "display_name": "Python 3.9.13 ('base')",
   "language": "python",
   "name": "python3"
  },
  "language_info": {
   "codemirror_mode": {
    "name": "ipython",
    "version": 3
   },
   "file_extension": ".py",
   "mimetype": "text/x-python",
   "name": "python",
   "nbconvert_exporter": "python",
   "pygments_lexer": "ipython3",
   "version": "3.9.13"
  },
  "vscode": {
   "interpreter": {
    "hash": "40d3a090f54c6569ab1632332b64b2c03c39dcf918b08424e98f38b5ae0af88f"
   }
  }
 },
 "nbformat": 4,
 "nbformat_minor": 5
}
